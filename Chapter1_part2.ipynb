{
  "nbformat": 4,
  "nbformat_minor": 0,
  "metadata": {
    "colab": {
      "name": "Chapter1-part2.ipynb",
      "provenance": [],
      "authorship_tag": "ABX9TyP5Or1Vk3brDQPKHTDtWXLV",
      "include_colab_link": true
    },
    "kernelspec": {
      "name": "python3",
      "display_name": "Python 3"
    },
    "language_info": {
      "name": "python"
    }
  },
  "cells": [
    {
      "cell_type": "markdown",
      "metadata": {
        "id": "view-in-github",
        "colab_type": "text"
      },
      "source": [
        "<a href=\"https://colab.research.google.com/github/fsajad9/Deep_code/blob/main/Chapter1_part2.ipynb\" target=\"_parent\"><img src=\"https://colab.research.google.com/assets/colab-badge.svg\" alt=\"Open In Colab\"/></a>"
      ]
    },
    {
      "cell_type": "code",
      "metadata": {
        "id": "k06wee9WWe1h"
      },
      "source": [
        "import numpy as np\n",
        "from sklearn.linear_model import LinearRegression\n",
        "import torch\n",
        "import torch.optim as optim\n",
        "import torch.nn as nn\n",
        "from torchviz import make_dot\n",
        "import matplotlib.pyplot as plt"
      ],
      "execution_count": 53,
      "outputs": []
    },
    {
      "cell_type": "code",
      "metadata": {
        "colab": {
          "base_uri": "https://localhost:8080/",
          "height": 283
        },
        "id": "k2AeZaadWpF9",
        "outputId": "4598aa6c-5695-4167-b87d-8f020100fcb5"
      },
      "source": [
        "n=100\n",
        "w_true=2\n",
        "b_true=1\n",
        "np.random.seed(42)\n",
        "x=np.random.rand(n,1)\n",
        "epsilon=np.random.randn(n,1)\n",
        "y=w_true*x+b_true+.1*epsilon\n",
        "plt.scatter(x,y)"
      ],
      "execution_count": 54,
      "outputs": [
        {
          "output_type": "execute_result",
          "data": {
            "text/plain": [
              "<matplotlib.collections.PathCollection at 0x7fdb2563aed0>"
            ]
          },
          "metadata": {},
          "execution_count": 54
        },
        {
          "output_type": "display_data",
          "data": {
            "image/png": "[encoded data removed]",
            "text/plain": [
              "<Figure size 432x288 with 1 Axes>"
            ]
          },
          "metadata": {
            "needs_background": "light"
          }
        }
      ]
    },
    {
      "cell_type": "code",
      "metadata": {
        "colab": {
          "base_uri": "https://localhost:8080/",
          "height": 283
        },
        "id": "EmL8GoY9Wy-n",
        "outputId": "14a3ab3e-78f4-4c6a-eafb-3d4a929b327e"
      },
      "source": [
        "idx=np.arange(n)\n",
        "np.random.shuffle(idx)\n",
        "train_idx=idx[:int(.8*n)]\n",
        "test_idx=idx[int(.8*n):]\n",
        "x_train,y_train=x[train_idx],y[train_idx]\n",
        "x_test,y_test=x[test_idx],y[test_idx]\n",
        "plt.scatter(x_train,y_train)\n",
        "plt.scatter(x_test,y_test)"
      ],
      "execution_count": 55,
      "outputs": [
        {
          "output_type": "execute_result",
          "data": {
            "text/plain": [
              "<matplotlib.collections.PathCollection at 0x7fdb25400950>"
            ]
          },
          "metadata": {},
          "execution_count": 55
        },
        {
          "output_type": "display_data",
          "data": {
            "image/png": "[encoded data removed]",
            "text/plain": [
              "<Figure size 432x288 with 1 Axes>"
            ]
          },
          "metadata": {
            "needs_background": "light"
          }
        }
      ]
    },
    {
      "cell_type": "code",
      "metadata": {
        "id": "GhSFY_j7W3jI"
      },
      "source": [
        "device = 'cuda' if torch.cuda.is_available() else 'cpu'\n",
        "x_train_tensor=torch.as_tensor(x_train).float().to(device)\n",
        "y_train_tensor=torch.as_tensor(y_train).float().to(device)\n",
        "\n"
      ],
      "execution_count": 60,
      "outputs": []
    },
    {
      "cell_type": "code",
      "metadata": {
        "id": "zNJmtxmiXMOO"
      },
      "source": [
        "class ManualLinearRegression(nn.Module):\n",
        "  def __init__(self):\n",
        "    super().__init__()\n",
        "    self.b=nn.Parameter(torch.randn(1,requires_grad=True,dtype=torch.float))\n",
        "    self.w=nn.Parameter(torch.randn(1,requires_grad=True,dtype=torch.float))\n",
        "  def forward(self,x):\n",
        "    return self.b+self.w*x\n",
        "    "
      ],
      "execution_count": 61,
      "outputs": []
    },
    {
      "cell_type": "code",
      "metadata": {
        "colab": {
          "base_uri": "https://localhost:8080/",
          "height": 300
        },
        "id": "EOHLMm3hYsEG",
        "outputId": "b734da72-ae93-4566-97c7-cf65308472df"
      },
      "source": [
        "torch.manual_seed(42) \n",
        "lr=.1\n",
        "model=ManualLinearRegression().to(device)\n",
        "optimizer=optim.SGD(model.parameters(),lr=lr)\n",
        "loss_fn=nn.MSELoss(reduction='mean')\n",
        "n_epoch=1000\n",
        "losses=[]\n",
        "for epoch in range(n_epoch):\n",
        "  model.train()\n",
        "  yhat=model(x_train_tensor)\n",
        "  loss=loss_fn(yhat,y_train_tensor)\n",
        "  o=loss.item()\n",
        "  losses.append(o)\n",
        "  loss.backward()\n",
        "  optimizer.step()\n",
        "  optimizer.zero_grad()\n",
        "plt.plot(losses,'m')\n",
        "plt.ylabel('Loss')\n",
        "plt.yscale('log')\n",
        "plt.legend() \n"
      ],
      "execution_count": 62,
      "outputs": [
        {
          "output_type": "stream",
          "name": "stderr",
          "text": [
            "No handles with labels found to put in legend.\n"
          ]
        },
        {
          "output_type": "execute_result",
          "data": {
            "text/plain": [
              "<matplotlib.legend.Legend at 0x7fdb25288a90>"
            ]
          },
          "metadata": {},
          "execution_count": 62
        },
        {
          "output_type": "display_data",
          "data": {
            "image/png": "[encoded data removed]",
            "text/plain": [
              "<Figure size 432x288 with 1 Axes>"
            ]
          },
          "metadata": {
            "needs_background": "light"
          }
        }
      ]
    }
  ]
}