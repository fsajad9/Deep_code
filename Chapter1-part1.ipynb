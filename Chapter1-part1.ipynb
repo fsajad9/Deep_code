{
  "nbformat": 4,
  "nbformat_minor": 0,
  "metadata": {
    "colab": {
      "name": "Chapter1.ipynb",
      "provenance": [],
      "authorship_tag": "ABX9TyNX6YFvZD/Vqzf0lJYNT1hP",
      "include_colab_link": true
    },
    "kernelspec": {
      "name": "python3",
      "display_name": "Python 3"
    },
    "language_info": {
      "name": "python"
    }
  },
  "cells": [
    {
      "cell_type": "markdown",
      "metadata": {
        "id": "view-in-github",
        "colab_type": "text"
      },
      "source": [
        "<a href=\"https://colab.research.google.com/github/fsajad9/Deep_code/blob/main/Chapter1-part1.ipynb\" target=\"_parent\"><img src=\"https://colab.research.google.com/assets/colab-badge.svg\" alt=\"Open In Colab\"/></a>"
      ]
    },
    {
      "cell_type": "code",
      "metadata": {
        "id": "KAjSJsoX3hm0"
      },
      "source": [
        "import numpy as np\n",
        "from sklearn.linear_model import LinearRegression\n",
        "import torch\n",
        "import torch.optim as optim\n",
        "import torch.nn as nn\n",
        "from torchviz import make_dot\n",
        "import matplotlib.pyplot as plt\n"
      ],
      "execution_count": null,
      "outputs": []
    },
    {
      "cell_type": "code",
      "metadata": {
        "colab": {
          "base_uri": "https://localhost:8080/",
          "height": 283
        },
        "id": "YAR0Wvxh3mXj",
        "outputId": "2d1e3c91-4cb7-48c7-ac0e-cd23f79e652b"
      },
      "source": [
        "n=100\n",
        "w_true=2\n",
        "b_true=1\n",
        "np.random.seed(42)\n",
        "x=np.random.rand(n,1)\n",
        "epsilon=np.random.randn(n,1)\n",
        "y=w_true*x+b_true+.1*epsilon\n",
        "plt.scatter(x,y)"
      ],
      "execution_count": null,
      "outputs": [
        {
          "output_type": "execute_result",
          "data": {
            "text/plain": [
              "<matplotlib.collections.PathCollection at 0x7f6624d956d0>"
            ]
          },
          "metadata": {},
          "execution_count": 41
        },
        {
          "output_type": "display_data",
          "data": {
            "image/png": "[encoded data removed]",
            "text/plain": [
              "<Figure size 432x288 with 1 Axes>"
            ]
          },
          "metadata": {
            "needs_background": "light"
          }
        }
      ]
    },
    {
      "cell_type": "code",
      "metadata": {
        "colab": {
          "base_uri": "https://localhost:8080/",
          "height": 283
        },
        "id": "g8Ck5kpX4yuE",
        "outputId": "25dcba41-9547-4287-88bd-725e68a34636"
      },
      "source": [
        "idx=np.arange(n)\n",
        "np.random.shuffle(idx)\n",
        "train_idx=idx[:int(.8*n)]\n",
        "test_idx=idx[int(.8*n):]\n",
        "x_train,y_train=x[train_idx],y[train_idx]\n",
        "x_test,y_test=x[test_idx],y[test_idx]\n",
        "plt.scatter(x_train,y_train)\n",
        "plt.scatter(x_test,y_test)"
      ],
      "execution_count": null,
      "outputs": [
        {
          "output_type": "execute_result",
          "data": {
            "text/plain": [
              "<matplotlib.collections.PathCollection at 0x7f6624d00490>"
            ]
          },
          "metadata": {},
          "execution_count": 42
        },
        {
          "output_type": "display_data",
          "data": {
            "image/png": "[encoded data removed]",
            "text/plain": [
              "<Figure size 432x288 with 1 Axes>"
            ]
          },
          "metadata": {
            "needs_background": "light"
          }
        }
      ]
    },
    {
      "cell_type": "code",
      "metadata": {
        "id": "Aym1PoOL5Bti"
      },
      "source": [
        "np.random.seed(42)\n",
        "b=np.random.randn(1)\n",
        "w=np.random.randn(1)\n",
        "lr=.1\n",
        "n_epoch=1000\n",
        "losses=[]"
      ],
      "execution_count": null,
      "outputs": []
    },
    {
      "cell_type": "code",
      "metadata": {
        "colab": {
          "base_uri": "https://localhost:8080/",
          "height": 283
        },
        "id": "3c0bhNqi5K_Y",
        "outputId": "e8b5db67-1c08-4179-9c71-6a7839c2ffbf"
      },
      "source": [
        "for epoch in range(n_epoch):\n",
        "  yhat=b+w*x_train\n",
        "  error=yhat-y_train\n",
        "  loss=(error**2).mean()\n",
        "  losses.append(loss)\n",
        "  b_grad=2*error.mean()\n",
        "  w_grad=2*(x_train*error).mean()\n",
        "  b=b-lr*b_grad\n",
        "  w=w-lr*w_grad\n",
        "plt.plot(losses,'m')  \n",
        "plt.yscale('log')\n",
        "loss\n",
        "\n"
      ],
      "execution_count": null,
      "outputs": [
        {
          "output_type": "execute_result",
          "data": {
            "text/plain": [
              "0.008044657695505499"
            ]
          },
          "metadata": {},
          "execution_count": 44
        },
        {
          "output_type": "display_data",
          "data": {
            "image/png": "[encoded data removed]",
            "text/plain": [
              "<Figure size 432x288 with 1 Axes>"
            ]
          },
          "metadata": {
            "needs_background": "light"
          }
        }
      ]
    },
    {
      "cell_type": "code",
      "metadata": {
        "colab": {
          "base_uri": "https://localhost:8080/",
          "height": 283
        },
        "id": "4rv89qT75MJG",
        "outputId": "f29140be-fc16-4e59-a65c-db22f5e8b5f2"
      },
      "source": [
        "plt.scatter(x_train,y_train)\n",
        "plt.plot(x_train,b+w*x_train,'m')"
      ],
      "execution_count": null,
      "outputs": [
        {
          "output_type": "execute_result",
          "data": {
            "text/plain": [
              "[<matplotlib.lines.Line2D at 0x7f6624d2c4d0>]"
            ]
          },
          "metadata": {},
          "execution_count": 45
        },
        {
          "output_type": "display_data",
          "data": {
            "image/png": "[encoded data removed]",
            "text/plain": [
              "<Figure size 432x288 with 1 Axes>"
            ]
          },
          "metadata": {
            "needs_background": "light"
          }
        }
      ]
    },
    {
      "cell_type": "code",
      "metadata": {
        "colab": {
          "base_uri": "https://localhost:8080/"
        },
        "id": "B1jByH648_6T",
        "outputId": "0640d674-df85-417a-d4f5-ee6a3b3f7169"
      },
      "source": [
        "linr=LinearRegression()\n",
        "linr.fit(x_train,y_train)\n",
        "print(linr.intercept_, linr.coef_[0])\n"
      ],
      "execution_count": null,
      "outputs": [
        {
          "output_type": "stream",
          "name": "stdout",
          "text": [
            "[1.02354075] [1.96896447]\n"
          ]
        }
      ]
    },
    {
      "cell_type": "code",
      "metadata": {
        "id": "Bc6NGIOh-dKL"
      },
      "source": [
        "device = 'cuda' if torch.cuda.is_available() else 'cpu'\n"
      ],
      "execution_count": null,
      "outputs": []
    },
    {
      "cell_type": "code",
      "metadata": {
        "id": "i7CFJK5D-iGI"
      },
      "source": [
        "x_train_tensor=torch.as_tensor(x_train).float().to(device)\n",
        "y_train_tensor=torch.as_tensor(y_train).float().to(device)\n",
        "\n"
      ],
      "execution_count": null,
      "outputs": []
    },
    {
      "cell_type": "code",
      "metadata": {
        "colab": {
          "base_uri": "https://localhost:8080/",
          "height": 399
        },
        "id": "F-Bygr9FBIkX",
        "outputId": "5e92901c-acfc-4bee-d98e-b514955e9a76"
      },
      "source": [
        "torch.manual_seed(42)\n",
        "b=torch.rand(1,requires_grad=True,dtype=torch.float,device=device)\n",
        "w=torch.rand(1,requires_grad=True, dtype=torch.float,device= device)\n",
        "yhat = b + w * x_train_tensor\n",
        "error = (yhat - y_train_tensor)\n",
        "loss = (error ** 2).mean()\n",
        "make_dot(yhat)\n",
        "\n"
      ],
      "execution_count": null,
      "outputs": [
        {
          "output_type": "execute_result",
          "data": {
            "text/plain": [
              "<graphviz.dot.Digraph at 0x7f6624781550>"
            ],
            "image/svg+xml": "<?xml version=\"1.0\" encoding=\"UTF-8\" standalone=\"no\"?>\n<!DOCTYPE svg PUBLIC \"-//W3C//DTD SVG 1.1//EN\"\n \"http://www.w3.org/Graphics/SVG/1.1/DTD/svg11.dtd\">\n<!-- Generated by graphviz version 2.40.1 (20161225.0304)\n -->\n<!-- Title: %3 Pages: 1 -->\n<svg width=\"222pt\" height=\"283pt\"\n viewBox=\"0.00 0.00 222.00 283.00\" xmlns=\"http://www.w3.org/2000/svg\" xmlns:xlink=\"http://www.w3.org/1999/xlink\">\n<g id=\"graph0\" class=\"graph\" transform=\"scale(1 1) rotate(0) translate(4 279)\">\n<title>%3</title>\n<polygon fill=\"#ffffff\" stroke=\"transparent\" points=\"-4,4 -4,-279 218,-279 218,4 -4,4\"/>\n<!-- 140076674262592 -->\n<g id=\"node1\" class=\"node\">\n<title>140076674262592</title>\n<polygon fill=\"#caff70\" stroke=\"#000000\" points=\"139,-31 74,-31 74,0 139,0 139,-31\"/>\n<text text-anchor=\"middle\" x=\"106.5\" y=\"-7\" font-family=\"monospace\" font-size=\"10.00\" fill=\"#000000\"> (80, 1)</text>\n</g>\n<!-- 140076677614096 -->\n<g id=\"node2\" class=\"node\">\n<title>140076677614096</title>\n<polygon fill=\"#d3d3d3\" stroke=\"#000000\" points=\"151,-86 62,-86 62,-67 151,-67 151,-86\"/>\n<text text-anchor=\"middle\" x=\"106.5\" y=\"-74\" font-family=\"monospace\" font-size=\"10.00\" fill=\"#000000\">AddBackward0</text>\n</g>\n<!-- 140076677614096&#45;&gt;140076674262592 -->\n<g id=\"edge6\" class=\"edge\">\n<title>140076677614096&#45;&gt;140076674262592</title>\n<path fill=\"none\" stroke=\"#000000\" d=\"M106.5,-66.9688C106.5,-60.1289 106.5,-50.5621 106.5,-41.5298\"/>\n<polygon fill=\"#000000\" stroke=\"#000000\" points=\"110.0001,-41.3678 106.5,-31.3678 103.0001,-41.3678 110.0001,-41.3678\"/>\n</g>\n<!-- 140076683365520 -->\n<g id=\"node3\" class=\"node\">\n<title>140076683365520</title>\n<polygon fill=\"#d3d3d3\" stroke=\"#000000\" points=\"101,-141 0,-141 0,-122 101,-122 101,-141\"/>\n<text text-anchor=\"middle\" x=\"50.5\" y=\"-129\" font-family=\"monospace\" font-size=\"10.00\" fill=\"#000000\">AccumulateGrad</text>\n</g>\n<!-- 140076683365520&#45;&gt;140076677614096 -->\n<g id=\"edge1\" class=\"edge\">\n<title>140076683365520&#45;&gt;140076677614096</title>\n<path fill=\"none\" stroke=\"#000000\" d=\"M60.2545,-121.9197C68.1865,-114.1293 79.5788,-102.9405 89.0712,-93.6176\"/>\n<polygon fill=\"#000000\" stroke=\"#000000\" points=\"91.7982,-95.845 96.4802,-86.3408 86.8932,-90.8509 91.7982,-95.845\"/>\n</g>\n<!-- 140076673808976 -->\n<g id=\"node4\" class=\"node\">\n<title>140076673808976</title>\n<polygon fill=\"#add8e6\" stroke=\"#000000\" points=\"77.5,-208 23.5,-208 23.5,-177 77.5,-177 77.5,-208\"/>\n<text text-anchor=\"middle\" x=\"50.5\" y=\"-184\" font-family=\"monospace\" font-size=\"10.00\" fill=\"#000000\"> (1)</text>\n</g>\n<!-- 140076673808976&#45;&gt;140076683365520 -->\n<g id=\"edge2\" class=\"edge\">\n<title>140076673808976&#45;&gt;140076683365520</title>\n<path fill=\"none\" stroke=\"#000000\" d=\"M50.5,-176.791C50.5,-169.0249 50.5,-159.5706 50.5,-151.3129\"/>\n<polygon fill=\"#000000\" stroke=\"#000000\" points=\"54.0001,-151.0647 50.5,-141.0648 47.0001,-151.0648 54.0001,-151.0647\"/>\n</g>\n<!-- 140076676831248 -->\n<g id=\"node5\" class=\"node\">\n<title>140076676831248</title>\n<polygon fill=\"#d3d3d3\" stroke=\"#000000\" points=\"208,-141 119,-141 119,-122 208,-122 208,-141\"/>\n<text text-anchor=\"middle\" x=\"163.5\" y=\"-129\" font-family=\"monospace\" font-size=\"10.00\" fill=\"#000000\">MulBackward0</text>\n</g>\n<!-- 140076676831248&#45;&gt;140076677614096 -->\n<g id=\"edge3\" class=\"edge\">\n<title>140076676831248&#45;&gt;140076677614096</title>\n<path fill=\"none\" stroke=\"#000000\" d=\"M153.5714,-121.9197C145.4169,-114.0514 133.6697,-102.7164 123.9508,-93.3385\"/>\n<polygon fill=\"#000000\" stroke=\"#000000\" points=\"126.3252,-90.7659 116.6987,-86.3408 121.4646,-95.8032 126.3252,-90.7659\"/>\n</g>\n<!-- 140076674550224 -->\n<g id=\"node6\" class=\"node\">\n<title>140076674550224</title>\n<polygon fill=\"#d3d3d3\" stroke=\"#000000\" points=\"214,-202 113,-202 113,-183 214,-183 214,-202\"/>\n<text text-anchor=\"middle\" x=\"163.5\" y=\"-190\" font-family=\"monospace\" font-size=\"10.00\" fill=\"#000000\">AccumulateGrad</text>\n</g>\n<!-- 140076674550224&#45;&gt;140076676831248 -->\n<g id=\"edge4\" class=\"edge\">\n<title>140076674550224&#45;&gt;140076676831248</title>\n<path fill=\"none\" stroke=\"#000000\" d=\"M163.5,-182.9688C163.5,-174.5131 163.5,-161.8901 163.5,-151.2615\"/>\n<polygon fill=\"#000000\" stroke=\"#000000\" points=\"167.0001,-151.1656 163.5,-141.1656 160.0001,-151.1657 167.0001,-151.1656\"/>\n</g>\n<!-- 140076673809936 -->\n<g id=\"node7\" class=\"node\">\n<title>140076673809936</title>\n<polygon fill=\"#add8e6\" stroke=\"#000000\" points=\"190.5,-275 136.5,-275 136.5,-244 190.5,-244 190.5,-275\"/>\n<text text-anchor=\"middle\" x=\"163.5\" y=\"-251\" font-family=\"monospace\" font-size=\"10.00\" fill=\"#000000\"> (1)</text>\n</g>\n<!-- 140076673809936&#45;&gt;140076674550224 -->\n<g id=\"edge5\" class=\"edge\">\n<title>140076673809936&#45;&gt;140076674550224</title>\n<path fill=\"none\" stroke=\"#000000\" d=\"M163.5,-243.9604C163.5,-234.6356 163.5,-222.6748 163.5,-212.6317\"/>\n<polygon fill=\"#000000\" stroke=\"#000000\" points=\"167.0001,-212.35 163.5,-202.3501 160.0001,-212.3501 167.0001,-212.35\"/>\n</g>\n</g>\n</svg>\n"
          },
          "metadata": {},
          "execution_count": 88
        }
      ]
    },
    {
      "cell_type": "code",
      "metadata": {
        "colab": {
          "base_uri": "https://localhost:8080/",
          "height": 300
        },
        "id": "5J5e28htFeMu",
        "outputId": "acbe2219-0019-4a18-f172-08cad3836673"
      },
      "source": [
        "#Using torch package\n",
        "losses1=[]\n",
        "for epoch in range(n_epoch):\n",
        "  yhat=b+w*x_train_tensor\n",
        "  error=(yhat-y_train_tensor)\n",
        "  loss=(error**2).mean()\n",
        "  o=loss.item()\n",
        "  losses1.append(o)\n",
        "  loss.backward()\n",
        "  with torch.no_grad():\n",
        "    b-=lr*b.grad\n",
        "    w-=lr*w.grad\n",
        "  b.grad.zero_()\n",
        "  w.grad.zero_()  \n",
        "plt.plot(losses1,'m')\n",
        "plt.ylabel('Loss')\n",
        "plt.yscale('log')\n",
        "plt.legend()\n"
      ],
      "execution_count": null,
      "outputs": [
        {
          "output_type": "stream",
          "name": "stderr",
          "text": [
            "No handles with labels found to put in legend.\n"
          ]
        },
        {
          "output_type": "execute_result",
          "data": {
            "text/plain": [
              "<matplotlib.legend.Legend at 0x7f66246c8e50>"
            ]
          },
          "metadata": {},
          "execution_count": 89
        },
        {
          "output_type": "display_data",
          "data": {
            "image/png": "[encoded data removed]",
            "text/plain": [
              "<Figure size 432x288 with 1 Axes>"
            ]
          },
          "metadata": {
            "needs_background": "light"
          }
        }
      ]
    },
    {
      "cell_type": "code",
      "metadata": {
        "colab": {
          "base_uri": "https://localhost:8080/"
        },
        "id": "t4ih9uxYIOXP",
        "outputId": "c0cecc6e-e493-4010-acd1-360a876ebe2d"
      },
      "source": [
        "print(b,w)"
      ],
      "execution_count": null,
      "outputs": [
        {
          "output_type": "stream",
          "name": "stdout",
          "text": [
            "tensor([1.0235], requires_grad=True) tensor([1.9690], requires_grad=True)\n"
          ]
        }
      ]
    },
    {
      "cell_type": "code",
      "metadata": {
        "id": "XOneofLbM1Bz"
      },
      "source": [
        "torch.manual_seed(42)\n",
        "b=torch.rand(1,requires_grad=True,dtype=torch.float,device=device)\n",
        "w=torch.rand(1,requires_grad=True, dtype=torch.float,device= device)"
      ],
      "execution_count": null,
      "outputs": []
    },
    {
      "cell_type": "code",
      "metadata": {
        "colab": {
          "base_uri": "https://localhost:8080/",
          "height": 300
        },
        "id": "3Ol2LKuKIZiY",
        "outputId": "4706d0cf-e0f4-4c2d-c377-136e390ec74f"
      },
      "source": [
        "#Using optim package\n",
        "optimizer=optim.SGD([b,w],lr=lr)\n",
        "losses2=[]\n",
        "for epoch in range(n_epoch):\n",
        "  yhat=b+w*x_train_tensor\n",
        "  error=(yhat-y_train_tensor)\n",
        "  loss=(error**2).mean()\n",
        "  o=loss.item()\n",
        "\n",
        "  losses2.append(o)\n",
        "  loss.backward()\n",
        "  optimizer.step() \n",
        "  optimizer.zero_grad() \n",
        "plt.plot(losses2,'m')\n",
        "plt.ylabel('Loss')\n",
        "plt.yscale('log')\n",
        "plt.legend()"
      ],
      "execution_count": null,
      "outputs": [
        {
          "output_type": "stream",
          "name": "stderr",
          "text": [
            "No handles with labels found to put in legend.\n"
          ]
        },
        {
          "output_type": "execute_result",
          "data": {
            "text/plain": [
              "<matplotlib.legend.Legend at 0x7f6624564390>"
            ]
          },
          "metadata": {},
          "execution_count": 92
        },
        {
          "output_type": "display_data",
          "data": {
            "image/png": "[encoded data removed]",
            "text/plain": [
              "<Figure size 432x288 with 1 Axes>"
            ]
          },
          "metadata": {
            "needs_background": "light"
          }
        }
      ]
    },
    {
      "cell_type": "code",
      "metadata": {
        "id": "kj3aVRzNNSZX"
      },
      "source": [
        "torch.manual_seed(42)\n",
        "b=torch.rand(1,requires_grad=True,dtype=torch.float,device=device)\n",
        "w=torch.rand(1,requires_grad=True, dtype=torch.float,device= device)"
      ],
      "execution_count": null,
      "outputs": []
    },
    {
      "cell_type": "code",
      "metadata": {
        "colab": {
          "base_uri": "https://localhost:8080/",
          "height": 300
        },
        "id": "jYN-gueMRS1m",
        "outputId": "6d0f8c66-749f-43ab-cc20-81bd56c63812"
      },
      "source": [
        "#Using optim package\n",
        "optimizer=optim.SGD([b,w],lr=lr)\n",
        "loss_fn=nn.MSELoss(reduction='mean')\n",
        "\n",
        "losses3=[]\n",
        "for epoch in range(n_epoch):\n",
        "  yhat=b+w*x_train_tensor\n",
        "  loss=loss_fn(yhat,y_train_tensor)\n",
        "  o=loss.item()\n",
        "\n",
        "  losses3.append(o)\n",
        "  loss.backward()\n",
        "  optimizer.step() \n",
        "  optimizer.zero_grad() \n",
        "plt.plot(losses3,'b')\n",
        "plt.ylabel('Loss')\n",
        "plt.yscale('log')\n",
        "plt.legend()"
      ],
      "execution_count": null,
      "outputs": [
        {
          "output_type": "stream",
          "name": "stderr",
          "text": [
            "No handles with labels found to put in legend.\n"
          ]
        },
        {
          "output_type": "execute_result",
          "data": {
            "text/plain": [
              "<matplotlib.legend.Legend at 0x7f66242dcb10>"
            ]
          },
          "metadata": {},
          "execution_count": 100
        },
        {
          "output_type": "display_data",
          "data": {
            "image/png": "[encoded data removed]",
            "text/plain": [
              "<Figure size 432x288 with 1 Axes>"
            ]
          },
          "metadata": {
            "needs_background": "light"
          }
        }
      ]
    }
  ]
}